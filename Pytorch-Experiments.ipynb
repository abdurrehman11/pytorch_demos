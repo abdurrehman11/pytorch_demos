{
 "cells": [
  {
   "cell_type": "markdown",
   "metadata": {},
   "source": [
    "- **EfficientNet**: https://github.com/lukemelas/EfficientNet-PyTorch"
   ]
  },
  {
   "cell_type": "code",
   "execution_count": 24,
   "metadata": {},
   "outputs": [],
   "source": [
    "import torch.nn as nn"
   ]
  },
  {
   "cell_type": "code",
   "execution_count": 25,
   "metadata": {},
   "outputs": [],
   "source": [
    "from efficientnet_pytorch import EfficientNet\n",
    "model = EfficientNet.from_name('efficientnet-b0')"
   ]
  },
  {
   "cell_type": "code",
   "execution_count": 70,
   "metadata": {},
   "outputs": [],
   "source": [
    "model"
   ]
  },
  {
   "cell_type": "code",
   "execution_count": 40,
   "metadata": {},
   "outputs": [
    {
     "name": "stdout",
     "output_type": "stream",
     "text": [
      "torch.Size([1, 3, 137, 236])\n"
     ]
    }
   ],
   "source": [
    "img = torch.randn(1, 3, 137, 236)\n",
    "print(img.shape)"
   ]
  },
  {
   "cell_type": "code",
   "execution_count": 41,
   "metadata": {},
   "outputs": [
    {
     "name": "stdout",
     "output_type": "stream",
     "text": [
      "torch.Size([1, 1280, 4, 7])\n"
     ]
    }
   ],
   "source": [
    "features = model.extract_features(img)\n",
    "print(features.shape) "
   ]
  },
  {
   "cell_type": "code",
   "execution_count": null,
   "metadata": {},
   "outputs": [],
   "source": []
  },
  {
   "cell_type": "code",
   "execution_count": 17,
   "metadata": {},
   "outputs": [],
   "source": [
    "model._avg_pooling = nn.AdaptiveAvgPool2d(1)"
   ]
  },
  {
   "cell_type": "code",
   "execution_count": 71,
   "metadata": {},
   "outputs": [],
   "source": [
    "model"
   ]
  },
  {
   "cell_type": "code",
   "execution_count": 20,
   "metadata": {},
   "outputs": [],
   "source": [
    "model.ln = nn.LayerNorm(2580)"
   ]
  },
  {
   "cell_type": "code",
   "execution_count": 72,
   "metadata": {},
   "outputs": [],
   "source": [
    "model"
   ]
  },
  {
   "cell_type": "code",
   "execution_count": 22,
   "metadata": {},
   "outputs": [],
   "source": [
    "model.fc = nn.Linear(2580, 168*11*7)"
   ]
  },
  {
   "cell_type": "code",
   "execution_count": 73,
   "metadata": {},
   "outputs": [],
   "source": [
    "model"
   ]
  },
  {
   "cell_type": "code",
   "execution_count": null,
   "metadata": {},
   "outputs": [],
   "source": []
  },
  {
   "cell_type": "code",
   "execution_count": 20,
   "metadata": {},
   "outputs": [
    {
     "data": {
      "text/plain": [
       "1280"
      ]
     },
     "execution_count": 20,
     "metadata": {},
     "output_type": "execute_result"
    }
   ],
   "source": [
    "model._fc.in_features"
   ]
  },
  {
   "cell_type": "code",
   "execution_count": 21,
   "metadata": {},
   "outputs": [],
   "source": [
    "model._dropouts = nn.ModuleList([\n",
    "    nn.Dropout(0.5) for _ in range(5)\n",
    "])"
   ]
  },
  {
   "cell_type": "code",
   "execution_count": 74,
   "metadata": {},
   "outputs": [],
   "source": [
    "model"
   ]
  },
  {
   "cell_type": "code",
   "execution_count": 23,
   "metadata": {},
   "outputs": [],
   "source": [
    "model._outer = nn.Linear(model._fc.in_features, 4096)"
   ]
  },
  {
   "cell_type": "code",
   "execution_count": 75,
   "metadata": {},
   "outputs": [],
   "source": [
    "model"
   ]
  },
  {
   "cell_type": "code",
   "execution_count": 25,
   "metadata": {},
   "outputs": [],
   "source": [
    "model._fc = nn.Identity()"
   ]
  },
  {
   "cell_type": "code",
   "execution_count": 76,
   "metadata": {},
   "outputs": [],
   "source": [
    "model"
   ]
  },
  {
   "cell_type": "code",
   "execution_count": 16,
   "metadata": {},
   "outputs": [
    {
     "name": "stdout",
     "output_type": "stream",
     "text": [
      "MyNetwork(\n",
      "  (fc1): Linear(in_features=16, out_features=12, bias=True)\n",
      "  (fc2): Linear(in_features=12, out_features=10, bias=True)\n",
      "  (fc3): Linear(in_features=10, out_features=1, bias=True)\n",
      "  (fc4): Linear(in_features=10, out_features=5, bias=True)\n",
      ")\n"
     ]
    }
   ],
   "source": [
    "import torch\n",
    "import torch.nn.functional as F\n",
    "from torch import nn\n",
    "\n",
    "# define the network class\n",
    "class MyNetwork(nn.Module):\n",
    "    def __init__(self):\n",
    "        # call constructor from superclass\n",
    "        super().__init__()\n",
    "        \n",
    "        # define network layers\n",
    "        self.fc1 = nn.Linear(16, 12)\n",
    "        self.fc2 = nn.Linear(12, 10)\n",
    "        self.fc3 = nn.Linear(10, 1)\n",
    "        self.fc4 = nn.Linear(10, 5)\n",
    "        \n",
    "    def forward(self, x):\n",
    "        # define forward pass\n",
    "        x = F.relu(self.fc1(x))\n",
    "        x = F.relu(self.fc2(x))\n",
    "        x = torch.sigmoid(self.fc3(x))\n",
    "        return x\n",
    "\n",
    "# instantiate the model\n",
    "model = MyNetwork()\n",
    "\n",
    "# print model architecture\n",
    "print(model)"
   ]
  },
  {
   "cell_type": "code",
   "execution_count": null,
   "metadata": {},
   "outputs": [],
   "source": []
  },
  {
   "cell_type": "markdown",
   "metadata": {},
   "source": [
    "## Debugging"
   ]
  },
  {
   "cell_type": "code",
   "execution_count": 4,
   "metadata": {},
   "outputs": [],
   "source": [
    "import torch \n",
    "import torch.nn as nn\n",
    "\n",
    "class myNet(nn.Module):\n",
    "    def __init__(self):\n",
    "        super().__init__()\n",
    "        self.conv = nn.Conv2d(3,10,2, stride = 2)\n",
    "        self.relu = nn.ReLU()\n",
    "        self.flatten = lambda x: x.view(-1)\n",
    "        self.fc1 = nn.Linear(160,5)\n",
    "        \n",
    "    def forward(self, x):\n",
    "        x = self.relu(self.conv(x))\n",
    "        return self.fc1(self.flatten(x))\n",
    "\n",
    "\n",
    "net = myNet()"
   ]
  },
  {
   "cell_type": "code",
   "execution_count": 5,
   "metadata": {},
   "outputs": [
    {
     "data": {
      "text/plain": [
       "myNet(\n",
       "  (conv): Conv2d(3, 10, kernel_size=(2, 2), stride=(2, 2))\n",
       "  (relu): ReLU()\n",
       "  (fc1): Linear(in_features=160, out_features=5, bias=True)\n",
       ")"
      ]
     },
     "execution_count": 5,
     "metadata": {},
     "output_type": "execute_result"
    }
   ],
   "source": [
    "net"
   ]
  },
  {
   "cell_type": "code",
   "execution_count": null,
   "metadata": {},
   "outputs": [],
   "source": []
  },
  {
   "cell_type": "code",
   "execution_count": null,
   "metadata": {},
   "outputs": [],
   "source": []
  },
  {
   "cell_type": "markdown",
   "metadata": {},
   "source": [
    "## Optimizer and Learning Rate\n",
    "-To get below behavior, you should call it in every epoch, not only if the current epoch equals the step size."
   ]
  },
  {
   "cell_type": "code",
   "execution_count": 6,
   "metadata": {},
   "outputs": [],
   "source": [
    "import torch\n",
    "import torch.optim as optim"
   ]
  },
  {
   "cell_type": "code",
   "execution_count": 9,
   "metadata": {},
   "outputs": [
    {
     "name": "stdout",
     "output_type": "stream",
     "text": [
      "Epoch 1, lr 0.001\n",
      "Epoch 2, lr 0.001\n",
      "Epoch 3, lr 0.001\n",
      "Epoch 4, lr 0.001\n",
      "Epoch 5, lr 0.001\n",
      "Epoch 6, lr 0.001\n",
      "Epoch 7, lr 0.0001\n",
      "Epoch 8, lr 0.0001\n",
      "Epoch 9, lr 0.0001\n",
      "Epoch 10, lr 0.0001\n",
      "Epoch 11, lr 0.0001\n",
      "Epoch 12, lr 0.0001\n",
      "Epoch 13, lr 0.0001\n",
      "Epoch 14, lr 1e-05\n",
      "Epoch 15, lr 1e-05\n",
      "Epoch 16, lr 1e-05\n",
      "Epoch 17, lr 1e-05\n",
      "Epoch 18, lr 1e-05\n",
      "Epoch 19, lr 1e-05\n",
      "Epoch 20, lr 1e-05\n",
      "Epoch 21, lr 1.0000000000000002e-06\n",
      "Epoch 22, lr 1.0000000000000002e-06\n",
      "Epoch 23, lr 1.0000000000000002e-06\n",
      "Epoch 24, lr 1.0000000000000002e-06\n"
     ]
    }
   ],
   "source": [
    "optimizer = optim.SGD([torch.randn(1, requires_grad=True)], lr=1e-3)\n",
    "exp_lr_scheduler = optim.lr_scheduler.StepLR(optimizer,\n",
    "                                             step_size=7, gamma=0.1)\n",
    "\n",
    "for epoch in range(1, 25):\n",
    "    exp_lr_scheduler.step()\n",
    "    print('Epoch {}, lr {}'.format(\n",
    "        epoch, optimizer.param_groups[0]['lr']))"
   ]
  },
  {
   "cell_type": "code",
   "execution_count": 12,
   "metadata": {},
   "outputs": [
    {
     "name": "stdout",
     "output_type": "stream",
     "text": [
      "Epoch 1, lr 0.000996057350657239\n",
      "Epoch 2, lr 0.0009842915805643156\n",
      "Epoch 3, lr 0.0009648882429441258\n",
      "Epoch 4, lr 0.0009381533400219318\n",
      "Epoch 5, lr 0.0009045084971874737\n",
      "Epoch 6, lr 0.0008644843137107057\n",
      "Epoch 7, lr 0.0008187119948743448\n",
      "Epoch 8, lr 0.0007679133974894982\n",
      "Epoch 9, lr 0.0007128896457825362\n",
      "Epoch 10, lr 0.0006545084971874736\n",
      "Epoch 11, lr 0.0005936906572928624\n",
      "Epoch 12, lr 0.0005313952597646568\n",
      "Epoch 13, lr 0.00046860474023534336\n",
      "Epoch 14, lr 0.0004063093427071377\n",
      "Epoch 15, lr 0.00034549150281252644\n",
      "Epoch 16, lr 0.00028711035421746366\n",
      "Epoch 17, lr 0.00023208660251050156\n",
      "Epoch 18, lr 0.00018128800512565513\n",
      "Epoch 19, lr 0.00013551568628929433\n",
      "Epoch 20, lr 9.549150281252634e-05\n",
      "Epoch 21, lr 6.184665997806823e-05\n",
      "Epoch 22, lr 3.511175705587433e-05\n",
      "Epoch 23, lr 1.570841943568452e-05\n",
      "Epoch 24, lr 3.942649342761118e-06\n"
     ]
    }
   ],
   "source": [
    "optimizer = optim.SGD([torch.randn(1, requires_grad=True)], lr=1e-3)\n",
    "exp_lr_scheduler = optim.lr_scheduler.CosineAnnealingLR(optimizer, 25)\n",
    "\n",
    "for epoch in range(1, 25):\n",
    "    exp_lr_scheduler.step()\n",
    "    print('Epoch {}, lr {}'.format(\n",
    "        epoch, optimizer.param_groups[0]['lr']))"
   ]
  },
  {
   "cell_type": "code",
   "execution_count": 15,
   "metadata": {},
   "outputs": [
    {
     "name": "stdout",
     "output_type": "stream",
     "text": [
      "Epoch 1, lr 0.001\n",
      "Epoch 2, lr 0.000996057350657239\n",
      "Epoch 3, lr 0.0009842915805643156\n",
      "Epoch 4, lr 0.0009648882429441257\n",
      "Epoch 5, lr 0.0009381533400219318\n",
      "Epoch 6, lr 0.0009045084971874737\n",
      "Epoch 7, lr 0.0008644843137107057\n",
      "Epoch 8, lr 0.0008187119948743449\n",
      "Epoch 9, lr 0.0007679133974894983\n",
      "Epoch 10, lr 0.0007128896457825364\n",
      "Epoch 11, lr 0.0006545084971874737\n",
      "Epoch 12, lr 0.0005936906572928624\n",
      "Epoch 13, lr 0.0005313952597646568\n",
      "Epoch 14, lr 0.0004686047402353433\n",
      "Epoch 15, lr 0.0004063093427071377\n",
      "Epoch 16, lr 0.00034549150281252644\n",
      "Epoch 17, lr 0.00028711035421746366\n",
      "Epoch 18, lr 0.00023208660251050156\n",
      "Epoch 19, lr 0.00018128800512565513\n",
      "Epoch 20, lr 0.00013551568628929433\n",
      "Epoch 21, lr 9.549150281252633e-05\n",
      "Epoch 22, lr 6.184665997806821e-05\n",
      "Epoch 23, lr 3.5111757055874326e-05\n",
      "Epoch 24, lr 1.5708419435684518e-05\n"
     ]
    }
   ],
   "source": [
    "optimizer = optim.SGD([torch.randn(1, requires_grad=True)], lr=1e-3)\n",
    "exp_lr_scheduler = optim.lr_scheduler.CosineAnnealingLR(optimizer, 25)\n",
    "\n",
    "for epoch in range(1, 25):\n",
    "    exp_lr_scheduler.step(epoch-1)\n",
    "    print('Epoch {}, lr {}'.format(\n",
    "        epoch, optimizer.param_groups[0]['lr']))"
   ]
  },
  {
   "cell_type": "code",
   "execution_count": null,
   "metadata": {},
   "outputs": [],
   "source": []
  },
  {
   "cell_type": "code",
   "execution_count": null,
   "metadata": {},
   "outputs": [],
   "source": []
  },
  {
   "cell_type": "markdown",
   "metadata": {},
   "source": [
    "## Torchvision Transforms"
   ]
  },
  {
   "cell_type": "code",
   "execution_count": 6,
   "metadata": {},
   "outputs": [],
   "source": [
    "from torchvision import transforms\n",
    "import torch\n",
    "from torch.utils.data import Dataset"
   ]
  },
  {
   "cell_type": "code",
   "execution_count": null,
   "metadata": {},
   "outputs": [],
   "source": [
    "class experimental_dataset(Dataset):\n",
    "\n",
    "    def __init__(self, data, transform):\n",
    "        self.data = data\n",
    "        self.transform = transform\n",
    "\n",
    "    def __len__(self):\n",
    "        return len(self.data.shape[0])\n",
    "\n",
    "    def __getitem__(self, idx):\n",
    "        item = self.data[idx]\n",
    "        item = self.transform(item)\n",
    "        return item\n",
    "\n",
    "transform = transforms.Compose([\n",
    "    transforms.ToPILImage(),\n",
    "    transforms.RandomHorizontalFlip(),\n",
    "    transforms.ToTensor()\n",
    "])\n",
    "\n",
    "x = torch.rand(8, 1, 2, 2)\n",
    "print(x)\n",
    "\n",
    "dataset = experimental_dataset(x,transform)\n",
    "\n",
    "for item in dataset:\n",
    "    print(item)"
   ]
  },
  {
   "cell_type": "code",
   "execution_count": null,
   "metadata": {},
   "outputs": [],
   "source": []
  },
  {
   "cell_type": "markdown",
   "metadata": {},
   "source": [
    "## Layer Normalization (normalize across features)"
   ]
  },
  {
   "cell_type": "code",
   "execution_count": 38,
   "metadata": {},
   "outputs": [],
   "source": [
    "import torch.nn as nn\n",
    "from efficientnet_pytorch import EfficientNet\n",
    "\n",
    "model = EfficientNet.from_name('efficientnet-b0')"
   ]
  },
  {
   "cell_type": "code",
   "execution_count": 42,
   "metadata": {},
   "outputs": [
    {
     "name": "stdout",
     "output_type": "stream",
     "text": [
      "torch.Size([50, 137, 236, 3])\n",
      "torch.Size([50, 3, 137, 236])\n",
      "torch.Size([50, 1280, 4, 7])\n"
     ]
    }
   ],
   "source": [
    "x = torch.randn(50, 137, 236, 3)\n",
    "print(x.size())\n",
    "x = x.view(50, 3, 137, 236)\n",
    "print(x.size())\n",
    "x = model.extract_features(x)\n",
    "print(x.size())"
   ]
  },
  {
   "cell_type": "code",
   "execution_count": 43,
   "metadata": {},
   "outputs": [
    {
     "name": "stdout",
     "output_type": "stream",
     "text": [
      "torch.Size([50, 1280, 1, 1])\n"
     ]
    }
   ],
   "source": [
    "x = nn.AdaptiveAvgPool2d(1)(x)\n",
    "print(x.size())"
   ]
  },
  {
   "cell_type": "code",
   "execution_count": 44,
   "metadata": {},
   "outputs": [
    {
     "name": "stdout",
     "output_type": "stream",
     "text": [
      "torch.Size([50, 1280])\n"
     ]
    }
   ],
   "source": [
    "x = x.view(50, -1)\n",
    "print(x.size())"
   ]
  },
  {
   "cell_type": "code",
   "execution_count": 52,
   "metadata": {},
   "outputs": [],
   "source": [
    "x = nn.LayerNorm(1280)(x)\n",
    "print(x.size())"
   ]
  },
  {
   "cell_type": "code",
   "execution_count": 53,
   "metadata": {},
   "outputs": [],
   "source": [
    "x = nn.Linear(1280, 14784)(x)\n",
    "print(x.size())"
   ]
  },
  {
   "cell_type": "code",
   "execution_count": null,
   "metadata": {},
   "outputs": [],
   "source": []
  },
  {
   "cell_type": "code",
   "execution_count": null,
   "metadata": {},
   "outputs": [],
   "source": []
  },
  {
   "cell_type": "markdown",
   "metadata": {},
   "source": [
    "# Data Loader"
   ]
  },
  {
   "cell_type": "code",
   "execution_count": null,
   "metadata": {},
   "outputs": [],
   "source": [
    "from torch.utils.data import DataLoader, Dataset\n",
    "import torch\n",
    "\n",
    "class MyDataset(Dataset):\n",
    "    def __init__(self, size):\n",
    "        self.x = torch.randn(size, 1)\n",
    "    \n",
    "    def __getitem__(self, index):\n",
    "        return self.x[index]\n",
    "\n",
    "    def __len__(self):\n",
    "        return len(self.x)\n",
    "\n",
    "dataset = MyDataset(1001)\n",
    "\n",
    "data_loader = DataLoader(dataset,\n",
    "                         batch_size=10)\n",
    "\n",
    "print(len(dataset))\n",
    "print(len(data_loader))\n",
    "\n",
    "for batch_idx, data in enumerate(data_loader):\n",
    "    print('batch idx{}, batch len {}'.format(\n",
    "        batch_idx, len(data)))\n",
    "\n",
    "data_loader = DataLoader(dataset,\n",
    "                     batch_size=10,\n",
    "                     drop_last=True)\n",
    "\n",
    "print(len(data_loader))\n",
    "\n",
    "for batch_idx, data in enumerate(data_loader):\n",
    "    print('batch idx{}, batch len {}'.format(\n",
    "        batch_idx, len(data)))"
   ]
  },
  {
   "cell_type": "code",
   "execution_count": null,
   "metadata": {},
   "outputs": [],
   "source": [
    "from torch.utils.data import DataLoader, Dataset\n",
    "import torch\n",
    "\n",
    "class MyDataset(Dataset):\n",
    "    def __init__(self, size):\n",
    "        self.x = torch.randn(size, 1)\n",
    "    \n",
    "    def __getitem__(self, index):\n",
    "        return self.x[index]\n",
    "\n",
    "    def __len__(self):\n",
    "        return len(self.x)\n",
    "\n",
    "epochs = 40\n",
    "dataset = MyDataset(1001)\n",
    "\n",
    "data_sampler = torch.utils.data.RandomSampler(dataset, \n",
    "                                              replacement=True, \n",
    "                                              num_samples=len(dataset)*epochs)\n",
    "\n",
    "data_loader = DataLoader(dataset,\n",
    "                         batch_size=10,\n",
    "                         drop_last=True,\n",
    "                         sampler=data_sampler)\n",
    "\n",
    "print(len(dataset))\n",
    "print(len(data_loader))\n",
    "print(len(data_sampler))\n",
    "\n",
    "for batch_idx, data in enumerate(data_loader):\n",
    "    print('batch idx{}, batch len {}'.format(\n",
    "        batch_idx, len(data)))"
   ]
  },
  {
   "cell_type": "code",
   "execution_count": null,
   "metadata": {},
   "outputs": [],
   "source": []
  }
 ],
 "metadata": {
  "kernelspec": {
   "display_name": "Python 3",
   "language": "python",
   "name": "python3"
  },
  "language_info": {
   "codemirror_mode": {
    "name": "ipython",
    "version": 3
   },
   "file_extension": ".py",
   "mimetype": "text/x-python",
   "name": "python",
   "nbconvert_exporter": "python",
   "pygments_lexer": "ipython3",
   "version": "3.7.4"
  }
 },
 "nbformat": 4,
 "nbformat_minor": 2
}
